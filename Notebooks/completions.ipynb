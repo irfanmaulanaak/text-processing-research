{
 "cells": [
  {
   "cell_type": "code",
   "execution_count": null,
   "metadata": {},
   "outputs": [],
   "source": [
    "import openai\n",
    "from openai import cli"
   ]
  },
  {
   "cell_type": "code",
   "execution_count": null,
   "metadata": {},
   "outputs": [],
   "source": [
    "\n",
    "openai.api_key = \"9b5a04e88ddc47498e134c1c992253c4\"\n",
    "openai.api_base = \"https://openai-cosmize-instance.openai.azure.com/\"\n",
    "openai.api_type = \"azure\"\n",
    "# The API version may change in the future.\n",
    "openai.api_version = \"2023-05-15\"\n",
    "\n",
    "max_response_tokens = 250\n",
    "token_limit = 4096"
   ]
  },
  {
   "cell_type": "code",
   "execution_count": null,
   "metadata": {},
   "outputs": [],
   "source": [
    "stringPrompts = [\n",
    "    \"The following is a conversation with an AI assistant. The assistant is helpful, creative, clever, and very friendly. The assistant name is Naufal. \\nHuman: Hello, who are you?\\nNaufal: I am an AI created by OpenAI. My name is Naufal. How can I help you today?\\n \"\n",
    "]"
   ]
  },
  {
   "cell_type": "code",
   "execution_count": null,
   "metadata": {},
   "outputs": [],
   "source": [
    "def process_input(prompt):\n",
    "    try:\n",
    "        stringPrompts[0] = stringPrompts[0] + prompt + \"\\n\"\n",
    "        response = openai.Completion.create(\n",
    "            engine=\"cosmize-text-davinci-003\", prompt=stringPrompts, max_tokens=2000\n",
    "        )\n",
    "        stringPrompts[0] = stringPrompts[0] + response.choices[0].text + \"\\n\"\n",
    "        print(response.choices[0].text)\n",
    "    except Exception as error:\n",
    "        print(error)\n",
    "\n",
    "\n",
    "def get_input():\n",
    "    try:\n",
    "        input_text = input(\"Human: \")\n",
    "        if input_text.lower() == \"exit\":\n",
    "            return\n",
    "        process_input(input_text)\n",
    "        get_input()\n",
    "    except Exception as error:\n",
    "        print(error)\n",
    "\n",
    "\n",
    "def main():\n",
    "    try:\n",
    "        get_input()\n",
    "    except Exception as error:\n",
    "        print(error)\n",
    "\n",
    "\n",
    "if __name__ == \"__main__\":\n",
    "    main()"
   ]
  }
 ],
 "metadata": {
  "kernelspec": {
   "display_name": "Python 3",
   "language": "python",
   "name": "python3"
  },
  "language_info": {
   "codemirror_mode": {
    "name": "ipython",
    "version": 3
   },
   "file_extension": ".py",
   "mimetype": "text/x-python",
   "name": "python",
   "nbconvert_exporter": "python",
   "pygments_lexer": "ipython3",
   "version": "3.10.6"
  },
  "orig_nbformat": 4
 },
 "nbformat": 4,
 "nbformat_minor": 2
}
