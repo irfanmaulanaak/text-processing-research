{
 "cells": [
  {
   "cell_type": "code",
   "execution_count": null,
   "id": "c0369983",
   "metadata": {},
   "outputs": [],
   "source": [
    "import openai\n",
    "from openai import cli\n",
    "import time\n",
    "import shutil\n",
    "import json"
   ]
  },
  {
   "cell_type": "code",
   "execution_count": null,
   "id": "a97762c4",
   "metadata": {},
   "outputs": [],
   "source": [
    "\n",
    "# Remember to remove your key from your code when you're done.\n",
    "openai.api_key = \"9b5a04e88ddc47498e134c1c992253c4\"\n",
    "# Your resource endpoint should look like the following:\n",
    "# https://YOUR_RESOURCE_NAME.openai.azure.com/\n",
    "openai.api_base =  \"https://openai-cosmize-instance.openai.azure.com/\" \n",
    "openai.api_type = 'azure'\n",
    "# The API version may change in the future.\n",
    "openai.api_version = '2023-05-15'\n",
    "\n",
    "training_file_name = 'training.jsonl'\n",
    "validation_file_name = 'validation.jsonl'\n",
    "\n",
    "sample_data = [{\"prompt\": \"When I go to the store, I want an\", \"completion\": \"apple\"},\n",
    "    {\"prompt\": \"When I go to work, I want a\", \"completion\": \"coffee\"},\n",
    "    {\"prompt\": \"When I go home, I want a\", \"completion\": \"soda\"}]\n",
    "\n",
    "# Generate the training dataset file.\n",
    "print(f'Generating the training file: {training_file_name}')\n",
    "with open(training_file_name, 'w') as training_file:\n",
    "    for entry in sample_data:\n",
    "        json.dump(entry, training_file)\n",
    "        training_file.write('\\n')\n",
    "\n",
    "# Copy the validation dataset file from the training dataset file.\n",
    "# Typically, your training data and validation data should be mutually exclusive.\n",
    "# For the purposes of this example, we're using the same data.\n",
    "print(f'Copying the training file to the validation file')\n",
    "shutil.copy(training_file_name, validation_file_name)\n",
    "\n",
    "def check_status(training_id, validation_id):\n",
    "    train_status = openai.File.retrieve(training_id)[\"status\"]\n",
    "    valid_status = openai.File.retrieve(validation_id)[\"status\"]\n",
    "    print(f'Status (training_file | validation_file): {train_status} | {valid_status}')\n",
    "    return (train_status, valid_status)\n",
    "\n",
    "# Upload the training and validation dataset files to Azure OpenAI.\n",
    "training_id = cli.FineTune._get_or_upload(training_file_name, True)\n",
    "validation_id = cli.FineTune._get_or_upload(validation_file_name, True)\n",
    "\n",
    "# Check on the upload status of the training and validation dataset files.\n",
    "(train_status, valid_status) = check_status(training_id, validation_id)\n",
    "\n",
    "# Poll and display the upload status once a second until both files have either\n",
    "# succeeded or failed to upload.\n",
    "while train_status not in [\"succeeded\", \"failed\"] or valid_status not in [\"succeeded\", \"failed\"]:\n",
    "    time.sleep(1)\n",
    "    (train_status, valid_status) = check_status(training_id, validation_id)"
   ]
  }
 ],
 "metadata": {
  "kernelspec": {
   "display_name": "Python 3 (ipykernel)",
   "language": "python",
   "name": "python3"
  },
  "language_info": {
   "codemirror_mode": {
    "name": "ipython",
    "version": 3
   },
   "file_extension": ".py",
   "mimetype": "text/x-python",
   "name": "python",
   "nbconvert_exporter": "python",
   "pygments_lexer": "ipython3",
   "version": "3.10.6"
  }
 },
 "nbformat": 4,
 "nbformat_minor": 5
}
